{
 "cells": [
  {
   "cell_type": "code",
   "execution_count": 4,
   "metadata": {},
   "outputs": [
    {
     "name": "stdout",
     "output_type": "stream",
     "text": [
      "Collecting symspellpy\n",
      "  Downloading https://files.pythonhosted.org/packages/6d/0b/2daa14bf1ed649fff0d072b2e51ae98d8b45cae6cf8fdda41be01ce6c289/symspellpy-6.5.2-py3-none-any.whl (2.6MB)\n",
      "Requirement already satisfied: numpy>=1.13.1 in c:\\users\\aiswarriya\\anaconda3\\lib\\site-packages (from symspellpy) (1.17.2)\n",
      "Installing collected packages: symspellpy\n",
      "Successfully installed symspellpy-6.5.2\n"
     ]
    }
   ],
   "source": [
    "!pip install symspellpy"
   ]
  },
  {
   "cell_type": "code",
   "execution_count": 10,
   "metadata": {},
   "outputs": [
    {
     "name": "stdout",
     "output_type": "stream",
     "text": [
      "where is the love he had dated for much of the past who couldn't read in six grade and inspired him\n"
     ]
    }
   ],
   "source": [
    "import pkg_resources\n",
    "\n",
    "from symspellpy.symspellpy import SymSpell, Verbosity  # import the module\n",
    "\n",
    "def main():\n",
    "    # maximum edit distance per dictionary precalculation\n",
    "    max_edit_distance_dictionary = 5\n",
    "    prefix_length = 7\n",
    "    # create object\n",
    "    sym_spell = SymSpell(max_edit_distance_dictionary, prefix_length)\n",
    "    # load dictionary\n",
    "    dictionary_path = pkg_resources.resource_filename(\n",
    "        \"symspellpy\", \"frequency_dictionary_en_82_765.txt\")\n",
    "    bigram_path = pkg_resources.resource_filename(\n",
    "        \"symspellpy\", \"frequency_bigramdictionary_en_243_342.txt\")\n",
    "    # term_index is the column of the term and count_index is the\n",
    "    # column of the term frequency\n",
    "    if not sym_spell.load_dictionary(dictionary_path, term_index=0,\n",
    "                                     count_index=1):\n",
    "        print(\"Dictionary file not found\")\n",
    "        return\n",
    "    if not sym_spell.load_bigram_dictionary(bigram_path, term_index=0,\n",
    "                                            count_index=2):\n",
    "        print(\"Bigram dictionary file not found\")\n",
    "        return\n",
    "\n",
    "    # lookup suggestions for single-word input strings\n",
    "    input_term = \"memebers\"  # misspelling of \"members\"\n",
    "    # max edit distance per lookup\n",
    "    # (max_edit_distance_lookup <= max_edit_distance_dictionary)\n",
    "    max_edit_distance_lookup = 2\n",
    "    suggestion_verbosity = Verbosity.CLOSEST  # TOP, CLOSEST, ALL\n",
    "    suggestions = sym_spell.lookup(input_term, suggestion_verbosity,\n",
    "                                   max_edit_distance_lookup)\n",
    "    # display suggestion term, term frequency, and edit distance\n",
    "    #for suggestion in suggestions:\n",
    "    #    print(\"{}, {}, {}\".format(suggestion.term, suggestion.distance,\n",
    "     #                             suggestion.count))\n",
    "\n",
    "    # lookup suggestions for multi-word input strings (supports compound\n",
    "    # splitting & merging)\n",
    "    input_term = (\"whereis th elove hehad dated forImuch of thepast who \"\n",
    "                  \"couqdn'tread in sixtgrade and ins pired him\")\n",
    "    # max edit distance per lookup (per single word, not per whole input string)\n",
    "    max_edit_distance_lookup = 2\n",
    "    suggestions = sym_spell.lookup_compound(input_term,\n",
    "                                            max_edit_distance_lookup)\n",
    "    # display suggestion term, edit distance, and term frequency\n",
    "    for suggestion in suggestions:\n",
    "        print(\"{}\".format(suggestion.term))\n",
    "\n",
    "if __name__ == \"__main__\":\n",
    "    main()"
   ]
  },
  {
   "cell_type": "code",
   "execution_count": 16,
   "metadata": {},
   "outputs": [
    {
     "name": "stdout",
     "output_type": "stream",
     "text": [
      "where is the love he had dated for much of the past who couldn't read in six grade and inspired him\n",
      "where is the love he had dated for much of the past who couldn't read in six grade and inspired him\n"
     ]
    }
   ],
   "source": [
    "import pkg_resources\n",
    "\n",
    "from symspellpy.symspellpy import SymSpell, Verbosity  # import the module\n",
    "global text\n",
    "\n",
    "def main():\n",
    "    # maximum edit distance per dictionary precalculation\n",
    "    max_edit_distance_dictionary = 2\n",
    "    prefix_length = 3\n",
    "    # create object\n",
    "    sym_spell = SymSpell(max_edit_distance_dictionary, prefix_length)\n",
    "    sym_spell1 = SymSpell()\n",
    "    # load dictionary\n",
    "    dictionary_path = pkg_resources.resource_filename(\n",
    "        \"symspellpy\", \"frequency_dictionary_en_82_765.txt\")\n",
    "    bigram_path = pkg_resources.resource_filename(\n",
    "        \"symspellpy\", \"frequency_bigramdictionary_en_243_342.txt\")\n",
    "    # term_index is the column of the term and count_index is the\n",
    "    # column of the term frequency\n",
    "    if not sym_spell.load_dictionary(dictionary_path, term_index=0,\n",
    "                                     count_index=1):\n",
    "        print(\"Dictionary file not found\")\n",
    "        return\n",
    "    if not sym_spell.load_bigram_dictionary(bigram_path, term_index=0,\n",
    "                                            count_index=2):\n",
    "        print(\"Bigram dictionary file not found\")\n",
    "        return\n",
    "\n",
    "    # lookup suggestions for single-word input strings\n",
    "    \"\"\"input_term = \"memebers\"  # misspelling of \"members\"\n",
    "    max edit distance per lookup\n",
    "    (max_edit_distance_lookup <= max_edit_distance_dictionary)\n",
    "    max_edit_distance_lookup = 2\n",
    "    suggestion_verbosity = Verbosity.CLOSEST  # TOP, CLOSEST, ALL\n",
    "    suggestions = sym_spell.lookup(input_term, suggestion_verbosity,\n",
    "                                   max_edit_distance_lookup)\n",
    "    # display suggestion term, term frequency, and edit distance\n",
    "    for suggestion in suggestions:\n",
    "        print(\"{}, {}, {}\".format(suggestion.term, suggestion.distance,\n",
    "                                  suggestion.count))\"\"\"\n",
    "\n",
    "    # lookup suggestions for multi-word input strings (supports compound\n",
    "    # splitting & merging)\n",
    "    input_term = (\"whereis th elove hehad dated forImuch of thepast who \"\n",
    "                  \"couqdn'tread in sixtgrade and ins pired him\")\n",
    "    # max edit distance per lookup (per single word, not per whole input string)\n",
    "    max_edit_distance_lookup = 2\n",
    "    suggestions = sym_spell.lookup_compound(input_term,\n",
    "                                            max_edit_distance_lookup)\n",
    "    # display suggestion term, edit distance, and term frequency\n",
    "    for suggestion in suggestions:\n",
    "        print(\"{}\".format(suggestion.term))\n",
    "    text = suggestion.term\n",
    "   # print(text)\n",
    "    cleansing(text)\n",
    "\n",
    "\n",
    "if __name__ == \"__main__\":\n",
    "    main()\n",
    "    #cleansing(text)\n",
    "    \n",
    "    \n",
    "def cleansing(text):\n",
    "    import spacy\n",
    "    from spacy.lang.en import English\n",
    "    parser = English()\n",
    "    nlp = spacy.load('en_core_web_sm',disable='NER')\n",
    "    nlp.max_length = 30\n",
    "    df= text\n",
    "    print(df)\n",
    "\n",
    "\n"
   ]
  },
  {
   "cell_type": "code",
   "execution_count": null,
   "metadata": {},
   "outputs": [],
   "source": []
  }
 ],
 "metadata": {
  "kernelspec": {
   "display_name": "Python 3",
   "language": "python",
   "name": "python3"
  },
  "language_info": {
   "codemirror_mode": {
    "name": "ipython",
    "version": 3
   },
   "file_extension": ".py",
   "mimetype": "text/x-python",
   "name": "python",
   "nbconvert_exporter": "python",
   "pygments_lexer": "ipython3",
   "version": "3.6.5"
  }
 },
 "nbformat": 4,
 "nbformat_minor": 2
}
