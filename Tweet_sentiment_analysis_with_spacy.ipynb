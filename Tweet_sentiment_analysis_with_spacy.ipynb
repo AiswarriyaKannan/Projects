{
 "cells": [
  {
   "cell_type": "code",
   "execution_count": 1,
   "metadata": {},
   "outputs": [],
   "source": [
    "import pandas as pd\n",
    "import spacy"
   ]
  },
  {
   "cell_type": "code",
   "execution_count": 2,
   "metadata": {},
   "outputs": [],
   "source": [
    "from spacy.lang.en import English\n",
    "parser = English()"
   ]
  },
  {
   "cell_type": "code",
   "execution_count": 3,
   "metadata": {},
   "outputs": [],
   "source": [
    "nlp = spacy.load('en_core_web_sm',disable='NER')"
   ]
  },
  {
   "cell_type": "code",
   "execution_count": 4,
   "metadata": {},
   "outputs": [],
   "source": [
    "nlp.max_length = 6000000"
   ]
  },
  {
   "cell_type": "code",
   "execution_count": 5,
   "metadata": {},
   "outputs": [
    {
     "data": {
      "text/plain": [
       "Index(['tweet_id', ' user', 'fullname', 'timestamp', 'text', 'search_keyword',\n",
       "       'brand_tag', 'user', 'Sentiment'],\n",
       "      dtype='object')"
      ]
     },
     "execution_count": 5,
     "metadata": {},
     "output_type": "execute_result"
    }
   ],
   "source": [
    "df = pd.read_csv('Tweets_with_senti.csv',sep='|' ,encoding= 'utf8')\n",
    "df.columns"
   ]
  },
  {
   "cell_type": "code",
   "execution_count": 6,
   "metadata": {},
   "outputs": [
    {
     "data": {
      "text/html": [
       "<div>\n",
       "<style scoped>\n",
       "    .dataframe tbody tr th:only-of-type {\n",
       "        vertical-align: middle;\n",
       "    }\n",
       "\n",
       "    .dataframe tbody tr th {\n",
       "        vertical-align: top;\n",
       "    }\n",
       "\n",
       "    .dataframe thead th {\n",
       "        text-align: right;\n",
       "    }\n",
       "</style>\n",
       "<table border=\"1\" class=\"dataframe\">\n",
       "  <thead>\n",
       "    <tr style=\"text-align: right;\">\n",
       "      <th></th>\n",
       "      <th>tweet_id</th>\n",
       "      <th>user</th>\n",
       "      <th>fullname</th>\n",
       "      <th>timestamp</th>\n",
       "      <th>text</th>\n",
       "      <th>search_keyword</th>\n",
       "      <th>brand_tag</th>\n",
       "      <th>user</th>\n",
       "      <th>Sentiment</th>\n",
       "    </tr>\n",
       "  </thead>\n",
       "  <tbody>\n",
       "    <tr>\n",
       "      <th>0</th>\n",
       "      <td>b'70894579485917184'</td>\n",
       "      <td>NaN</td>\n",
       "      <td>Benzinga com</td>\n",
       "      <td>2011-05-18 16:52:39</td>\n",
       "      <td>EXCLUSIVE General Mills Talks To Benzinga Abou...</td>\n",
       "      <td>generalmills yogurt</td>\n",
       "      <td>yoplait</td>\n",
       "      <td>Benzinga</td>\n",
       "      <td>Positive</td>\n",
       "    </tr>\n",
       "    <tr>\n",
       "      <th>1</th>\n",
       "      <td>b'42600137536708608'</td>\n",
       "      <td>NaN</td>\n",
       "      <td>H B Fuller</td>\n",
       "      <td>2011-03-01 15:00:38</td>\n",
       "      <td>GeneralMills and Nestle bid on world s 2nd la...</td>\n",
       "      <td>generalmills yogurt</td>\n",
       "      <td>yoplait</td>\n",
       "      <td>GlueTalk</td>\n",
       "      <td>Neutral</td>\n",
       "    </tr>\n",
       "    <tr>\n",
       "      <th>2</th>\n",
       "      <td>b'21864433185726465'</td>\n",
       "      <td>NaN</td>\n",
       "      <td>Julie Smart</td>\n",
       "      <td>2011-01-03 09:44:21</td>\n",
       "      <td>Free cup of Yoplait Yogurt http goo gl fb XQun...</td>\n",
       "      <td>generalmills yogurt</td>\n",
       "      <td>yoplait</td>\n",
       "      <td>CouponSavingFam</td>\n",
       "      <td>Positive</td>\n",
       "    </tr>\n",
       "    <tr>\n",
       "      <th>3</th>\n",
       "      <td>b'1259529710862336'</td>\n",
       "      <td>NaN</td>\n",
       "      <td>Bell Institute</td>\n",
       "      <td>2010-11-07 13:07:49</td>\n",
       "      <td>Get the Whole Story on Yogurt Whole Grain and ...</td>\n",
       "      <td>generalmills yogurt</td>\n",
       "      <td>yoplait</td>\n",
       "      <td>bellinstitute</td>\n",
       "      <td>Neutral</td>\n",
       "    </tr>\n",
       "    <tr>\n",
       "      <th>4</th>\n",
       "      <td>b'29538655006'</td>\n",
       "      <td>NaN</td>\n",
       "      <td>Bell Institute</td>\n",
       "      <td>2010-11-03 03:55:39</td>\n",
       "      <td>Get the Whole Story on whole grain heart healt...</td>\n",
       "      <td>generalmills yogurt</td>\n",
       "      <td>yoplait</td>\n",
       "      <td>bellinstitute</td>\n",
       "      <td>Positive</td>\n",
       "    </tr>\n",
       "  </tbody>\n",
       "</table>\n",
       "</div>"
      ],
      "text/plain": [
       "               tweet_id   user        fullname            timestamp  \\\n",
       "0  b'70894579485917184'    NaN    Benzinga com  2011-05-18 16:52:39   \n",
       "1  b'42600137536708608'    NaN      H B Fuller  2011-03-01 15:00:38   \n",
       "2  b'21864433185726465'    NaN     Julie Smart  2011-01-03 09:44:21   \n",
       "3   b'1259529710862336'    NaN  Bell Institute  2010-11-07 13:07:49   \n",
       "4        b'29538655006'    NaN  Bell Institute  2010-11-03 03:55:39   \n",
       "\n",
       "                                                text       search_keyword  \\\n",
       "0  EXCLUSIVE General Mills Talks To Benzinga Abou...  generalmills yogurt   \n",
       "1   GeneralMills and Nestle bid on world s 2nd la...  generalmills yogurt   \n",
       "2  Free cup of Yoplait Yogurt http goo gl fb XQun...  generalmills yogurt   \n",
       "3  Get the Whole Story on Yogurt Whole Grain and ...  generalmills yogurt   \n",
       "4  Get the Whole Story on whole grain heart healt...  generalmills yogurt   \n",
       "\n",
       "  brand_tag             user Sentiment  \n",
       "0   yoplait         Benzinga  Positive  \n",
       "1   yoplait         GlueTalk   Neutral  \n",
       "2   yoplait  CouponSavingFam  Positive  \n",
       "3   yoplait    bellinstitute   Neutral  \n",
       "4   yoplait    bellinstitute  Positive  "
      ]
     },
     "execution_count": 6,
     "metadata": {},
     "output_type": "execute_result"
    }
   ],
   "source": [
    "df.head()"
   ]
  },
  {
   "cell_type": "code",
   "execution_count": 7,
   "metadata": {},
   "outputs": [
    {
     "data": {
      "text/plain": [
       "0        EXCLUSIVE General Mills Talks To Benzinga Abou...\n",
       "1         GeneralMills and Nestle bid on world s 2nd la...\n",
       "2        Free cup of Yoplait Yogurt http goo gl fb XQun...\n",
       "3        Get the Whole Story on Yogurt Whole Grain and ...\n",
       "4        Get the Whole Story on whole grain heart healt...\n",
       "5         Yoplait in play http bit ly c1Rwu8 GeneralMIl...\n",
       "6         GeneralMills npdgroup I think that yogurt is ...\n",
       "7        Made some caesar dressing last week using gene...\n",
       "8         generalmills love liberte yogurt Lemon and mo...\n",
       "9         savecommunity I just handed 60 of generalmill...\n",
       "10        GeneralMills Feedback Please find another thi...\n",
       "11        GeneralMills Will your new Greek Yogurt have ...\n",
       "12        GeneralMills Yoplait Greek yogurt is tasty bu...\n",
       "13       We ll introduce Greek yogurt and granola parfa...\n",
       "14       Yoplait Greek yogurt is gaining momentum with ...\n",
       "15       Our intl plans are focused on ready to eat cer...\n",
       "16       In Canada constant currency sales increased 24...\n",
       "17        YoplaitYogurt I also made a donation to my lo...\n",
       "18        savecommunity I ve a 7 wk yoplaitlove yogurt ...\n",
       "19       Feeding America generalmills partner to raise ...\n",
       "20       Right on RT GeneralMills That s great RT ztafr...\n",
       "21       That s great RT ztafraternity Ever seen a yogu...\n",
       "22       Ever seen a yogurt eating contest to savelidst...\n",
       "23       Yoplait Greek yogurt sales up 50 for the quart...\n",
       "24       We ve also turned on national advertising for ...\n",
       "25       Strong levels of investment behind our Greek y...\n",
       "26       Our Yoplait team handing out yogurt at HQ toda...\n",
       "27       THX GeneralMills for the 5 semi loads of yogur...\n",
       "28       We re excited to add yogurt as a fifth global ...\n",
       "29       More than 3 000 stores across the U S have exp...\n",
       "                               ...                        \n",
       "49970    npm log level of silent may be set in the npmr...\n",
       "49971    When changing phones don t forget to backup tw...\n",
       "49972     and right now I m drinking a DanActive and re...\n",
       "49973    Coupon de 2 5 l achat de deux emballages de Da...\n",
       "49974    Us with the danactive WitkowskiAlexis https tw...\n",
       "49975     Dannon Have Danactive probiotic drinks been d...\n",
       "49976    My mom asked me if I wanted a DanActive it s l...\n",
       "49977    Ugh I think I just downed a Danactive that had...\n",
       "49978    Nice snack Danactive and goldfish pic twitter ...\n",
       "49979                          Danactive and eat regularly\n",
       "49980    tag yourself i m danactive https twitter com s...\n",
       "49981    coucou jmincruste moi aussi mm si taimes le ra...\n",
       "49982    Today is a day for just resting and taking in ...\n",
       "49983    K but are you an Activia or a DanActive kinda gal\n",
       "49984    You know what all i do is Yogurt For Breakfast...\n",
       "49985    See this Instagram video by danactive canada h...\n",
       "49986    Latest Contest Danactive Win 1 of 3 prepaid gi...\n",
       "49987    Regardez cette vid o Instagram de danactive ca...\n",
       "49988    D couvrez cette vid o Instagram de danactive c...\n",
       "49989    Regardez cette vid o Instagram de danactive ca...\n",
       "49990    Financial Junior Analyst Danone Inc Bouchervil...\n",
       "49991    Coupon de 1 sur un emballage de Danactive tout...\n",
       "49992    I used to be really active and do extreme race...\n",
       "49993    i m getting sick and all i wanna do is lay on ...\n",
       "49994    It s late but i can t seem to get yo sleep So ...\n",
       "49995    Post workout meal 4 yogurts 4 grams of protein...\n",
       "49996    This technique is preposterous DanActive provi...\n",
       "49997    just had an allergic reaction to a tea tree oi...\n",
       "49998    Is DanActive i e Actimel no longer a thing Dan...\n",
       "49999    First off Dannon the maker of Activia DanActiv...\n",
       "Name: text, Length: 50000, dtype: object"
      ]
     },
     "execution_count": 7,
     "metadata": {},
     "output_type": "execute_result"
    }
   ],
   "source": [
    "df1=df['text'].iloc[0:50000]\n",
    "df1"
   ]
  },
  {
   "cell_type": "code",
   "execution_count": 8,
   "metadata": {},
   "outputs": [
    {
     "data": {
      "text/plain": [
       "'0        EXCLUSIVE General Mills Talks To Benzinga Abou...\\n1         GeneralMills and Nestle bid on world s 2nd la...\\n2        Free cup of Yoplait Yogurt http goo gl fb XQun...\\n3        Get the Whole Story on Yogurt Whole Grain and ...\\n4        Get the Whole Story on whole grain heart healt...\\n5         Yoplait in play http bit ly c1Rwu8 GeneralMIl...\\n6         GeneralMills npdgroup I think that yogurt is ...\\n7        Made some caesar dressing last week using gene...\\n8         generalmills love liberte yogurt Lemon and mo...\\n9         savecommunity I just handed 60 of generalmill...\\n10        GeneralMills Feedback Please find another thi...\\n11        GeneralMills Will your new Greek Yogurt have ...\\n12        GeneralMills Yoplait Greek yogurt is tasty bu...\\n13       We ll introduce Greek yogurt and granola parfa...\\n14       Yoplait Greek yogurt is gaining momentum with ...\\n15       Our intl plans are focused on ready to eat cer...\\n16       In Canada constant currency sales increased 24...\\n17        YoplaitYogurt I also made a donation to my lo...\\n18        savecommunity I ve a 7 wk yoplaitlove yogurt ...\\n19       Feeding America generalmills partner to raise ...\\n20       Right on RT GeneralMills That s great RT ztafr...\\n21       That s great RT ztafraternity Ever seen a yogu...\\n22       Ever seen a yogurt eating contest to savelidst...\\n23       Yoplait Greek yogurt sales up 50 for the quart...\\n24       We ve also turned on national advertising for ...\\n25       Strong levels of investment behind our Greek y...\\n26       Our Yoplait team handing out yogurt at HQ toda...\\n27       THX GeneralMills for the 5 semi loads of yogur...\\n28       We re excited to add yogurt as a fifth global ...\\n29       More than 3 000 stores across the U S have exp...\\n                               ...                        \\n49970    npm log level of silent may be set in the npmr...\\n49971    When changing phones don t forget to backup tw...\\n49972     and right now I m drinking a DanActive and re...\\n49973    Coupon de 2 5 l achat de deux emballages de Da...\\n49974    Us with the danactive WitkowskiAlexis https tw...\\n49975     Dannon Have Danactive probiotic drinks been d...\\n49976    My mom asked me if I wanted a DanActive it s l...\\n49977    Ugh I think I just downed a Danactive that had...\\n49978    Nice snack Danactive and goldfish pic twitter ...\\n49979                          Danactive and eat regularly\\n49980    tag yourself i m danactive https twitter com s...\\n49981    coucou jmincruste moi aussi mm si taimes le ra...\\n49982    Today is a day for just resting and taking in ...\\n49983    K but are you an Activia or a DanActive kinda gal\\n49984    You know what all i do is Yogurt For Breakfast...\\n49985    See this Instagram video by danactive canada h...\\n49986    Latest Contest Danactive Win 1 of 3 prepaid gi...\\n49987    Regardez cette vid o Instagram de danactive ca...\\n49988    D couvrez cette vid o Instagram de danactive c...\\n49989    Regardez cette vid o Instagram de danactive ca...\\n49990    Financial Junior Analyst Danone Inc Bouchervil...\\n49991    Coupon de 1 sur un emballage de Danactive tout...\\n49992    I used to be really active and do extreme race...\\n49993    i m getting sick and all i wanna do is lay on ...\\n49994    It s late but i can t seem to get yo sleep So ...\\n49995    Post workout meal 4 yogurts 4 grams of protein...\\n49996    This technique is preposterous DanActive provi...\\n49997    just had an allergic reaction to a tea tree oi...\\n49998    Is DanActive i e Actimel no longer a thing Dan...\\n49999    First off Dannon the maker of Activia DanActiv...\\nName: text, Length: 50000, dtype: object'"
      ]
     },
     "execution_count": 8,
     "metadata": {},
     "output_type": "execute_result"
    }
   ],
   "source": [
    "sentence = str(df1)\n",
    "sentence\n"
   ]
  },
  {
   "cell_type": "code",
   "execution_count": 9,
   "metadata": {},
   "outputs": [],
   "source": [
    "sentence1=nlp(sentence)"
   ]
  },
  {
   "cell_type": "code",
   "execution_count": 10,
   "metadata": {},
   "outputs": [
    {
     "data": {
      "text/plain": [
       "0        EXCLUSIVE General Mills Talks To Benzinga Abou...\n",
       "1         GeneralMills and Nestle bid on world s 2nd la...\n",
       "2        Free cup of Yoplait Yogurt http goo gl fb XQun...\n",
       "3        Get the Whole Story on Yogurt Whole Grain and ...\n",
       "4        Get the Whole Story on whole grain heart healt...\n",
       "5         Yoplait in play http bit ly c1Rwu8 GeneralMIl...\n",
       "6         GeneralMills npdgroup I think that yogurt is ...\n",
       "7        Made some caesar dressing last week using gene...\n",
       "8         generalmills love liberte yogurt Lemon and mo...\n",
       "9         savecommunity I just handed 60 of generalmill...\n",
       "10        GeneralMills Feedback Please find another thi...\n",
       "11        GeneralMills Will your new Greek Yogurt have ...\n",
       "12        GeneralMills Yoplait Greek yogurt is tasty bu...\n",
       "13       We ll introduce Greek yogurt and granola parfa...\n",
       "14       Yoplait Greek yogurt is gaining momentum with ...\n",
       "15       Our intl plans are focused on ready to eat cer...\n",
       "16       In Canada constant currency sales increased 24...\n",
       "17        YoplaitYogurt I also made a donation to my lo...\n",
       "18        savecommunity I ve a 7 wk yoplaitlove yogurt ...\n",
       "19       Feeding America generalmills partner to raise ...\n",
       "20       Right on RT GeneralMills That s great RT ztafr...\n",
       "21       That s great RT ztafraternity Ever seen a yogu...\n",
       "22       Ever seen a yogurt eating contest to savelidst...\n",
       "23       Yoplait Greek yogurt sales up 50 for the quart...\n",
       "24       We ve also turned on national advertising for ...\n",
       "25       Strong levels of investment behind our Greek y...\n",
       "26       Our Yoplait team handing out yogurt at HQ toda...\n",
       "27       THX GeneralMills for the 5 semi loads of yogur...\n",
       "28       We re excited to add yogurt as a fifth global ...\n",
       "29       More than 3 000 stores across the U S have exp...\n",
       "                               ...                        \n",
       "49970    npm log level of silent may be set in the npmr...\n",
       "49971    When changing phones don t forget to backup tw...\n",
       "49972     and right now I m drinking a DanActive and re...\n",
       "49973    Coupon de 2 5 l achat de deux emballages de Da...\n",
       "49974    Us with the danactive WitkowskiAlexis https tw...\n",
       "49975     Dannon Have Danactive probiotic drinks been d...\n",
       "49976    My mom asked me if I wanted a DanActive it s l...\n",
       "49977    Ugh I think I just downed a Danactive that had...\n",
       "49978    Nice snack Danactive and goldfish pic twitter ...\n",
       "49979                          Danactive and eat regularly\n",
       "49980    tag yourself i m danactive https twitter com s...\n",
       "49981    coucou jmincruste moi aussi mm si taimes le ra...\n",
       "49982    Today is a day for just resting and taking in ...\n",
       "49983    K but are you an Activia or a DanActive kinda gal\n",
       "49984    You know what all i do is Yogurt For Breakfast...\n",
       "49985    See this Instagram video by danactive canada h...\n",
       "49986    Latest Contest Danactive Win 1 of 3 prepaid gi...\n",
       "49987    Regardez cette vid o Instagram de danactive ca...\n",
       "49988    D couvrez cette vid o Instagram de danactive c...\n",
       "49989    Regardez cette vid o Instagram de danactive ca...\n",
       "49990    Financial Junior Analyst Danone Inc Bouchervil...\n",
       "49991    Coupon de 1 sur un emballage de Danactive tout...\n",
       "49992    I used to be really active and do extreme race...\n",
       "49993    i m getting sick and all i wanna do is lay on ...\n",
       "49994    It s late but i can t seem to get yo sleep So ...\n",
       "49995    Post workout meal 4 yogurts 4 grams of protein...\n",
       "49996    This technique is preposterous DanActive provi...\n",
       "49997    just had an allergic reaction to a tea tree oi...\n",
       "49998    Is DanActive i e Actimel no longer a thing Dan...\n",
       "49999    First off Dannon the maker of Activia DanActiv...\n",
       "Name: text, Length: 50000, dtype: object"
      ]
     },
     "execution_count": 10,
     "metadata": {},
     "output_type": "execute_result"
    }
   ],
   "source": [
    "sentence1"
   ]
  },
  {
   "cell_type": "code",
   "execution_count": 24,
   "metadata": {},
   "outputs": [
    {
     "data": {
      "text/plain": [
       "'#sentence tokenization\\ntoken_list = []\\nfor token in sentence1:\\n    token_list.append(token.text)\\nprint(token_list)'"
      ]
     },
     "execution_count": 24,
     "metadata": {},
     "output_type": "execute_result"
    }
   ],
   "source": [
    "\"\"\"#sentence tokenization\n",
    "token_list = []\n",
    "for token in sentence1:\n",
    "    token_list.append(token.text)\n",
    "print(token_list)\"\"\""
   ]
  },
  {
   "cell_type": "code",
   "execution_count": 12,
   "metadata": {},
   "outputs": [],
   "source": [
    "# Load English tokenizer, tagger, parser, NER and word vectors\n",
    "nlp_use = English()"
   ]
  },
  {
   "cell_type": "code",
   "execution_count": 13,
   "metadata": {},
   "outputs": [],
   "source": [
    "# Create the pipeline 'sentencizer' component\n",
    "sbd = nlp.create_pipe('sentencizer')"
   ]
  },
  {
   "cell_type": "code",
   "execution_count": 14,
   "metadata": {},
   "outputs": [],
   "source": [
    "# Add the component to the pipeline\n",
    "nlp_use.add_pipe(sbd)"
   ]
  },
  {
   "cell_type": "code",
   "execution_count": 15,
   "metadata": {},
   "outputs": [
    {
     "name": "stdout",
     "output_type": "stream",
     "text": [
      "['0        ', 'EXCLUSIVE General Mills Talks To Benzinga Abou...\\n1         GeneralMills and Nestle bid on world s 2nd la...\\n2        Free cup of Yoplait Yogurt', 'http goo gl', 'fb', 'XQun...\\n3        Get the Whole Story on Yogurt Whole Grain and ...\\n4        Get the Whole Story on whole grain heart healt...\\n5         Yoplait in play http bit ly c1Rwu8 GeneralMIl...\\n6         GeneralMills npdgroup', 'I think that yogurt is ...\\n7        Made some caesar dressing last week using gene', '...\\n', '8         generalmills love liberte yogurt Lemon and mo', '...\\n9         savecommunity I just handed 60 of generalmill...\\n10        GeneralMills Feedback', 'Please find another thi...\\n11        ', 'GeneralMills Will', 'your new Greek Yogurt have ...\\n', '12        GeneralMills Yoplait Greek yogurt is tasty bu...\\n13       ', 'We ll introduce Greek yogurt and granola parfa...\\n', '14       Yoplait Greek yogurt is gaining momentum with ...\\n15       ', 'Our intl plans are focused on ready to eat cer...\\n16       ', 'In Canada constant currency sales increased 24...\\n', '17        YoplaitYogurt', 'I also made a donation to my lo...\\n', '18        savecommunity', 'I ve a 7 wk yoplaitlove yogurt ...\\n19       ', 'Feeding America generalmills partner to raise ...\\n20       ', 'Right on RT GeneralMills', 'That s great RT ztafr...\\n21       ', 'That s great RT ztafraternity', 'Ever seen a yogu...\\n', '22       Ever seen a yogurt eating contest to savelidst...\\n23       ', 'Yoplait Greek yogurt sales up 50 for the quart...\\n24       ', 'We ve also turned on national advertising for ...\\n25       Strong levels of investment behind our Greek y...\\n26       Our Yoplait team handing out yogurt at HQ toda...\\n27       THX GeneralMills for the 5 semi loads of yogur...\\n', '28       ', 'We re excited to add yogurt as a fifth global ...\\n29       More than 3 000 stores across the U S have exp...\\n                               ', '...                        \\n', '49970    npm log level of silent may be set in the npmr...\\n49971    When changing phones don t forget to backup tw...\\n49972     and', 'right now I m drinking a DanActive and re...\\n49973    Coupon de 2 5 l achat de deux emballages de Da...\\n49974    ', 'Us with the danactive WitkowskiAlexis https tw...\\n49975     ', 'Dannon Have Danactive probiotic drinks been d...\\n49976    ', 'My mom asked me if I wanted a DanActive', 'it s', 'l...\\n49977    ', 'Ugh I think I just downed a Danactive that had...\\n49978    ', 'Nice snack Danactive and goldfish pic twitter ...\\n49979                          Danactive and eat regularly\\n49980    tag yourself', 'i m danactive https twitter com s...\\n49981    coucou jmincruste moi aussi mm', 'si taimes le ra...\\n49982    Today is a day for just resting and taking in ...\\n49983    ', 'K', 'but are you an Activia or a DanActive kinda gal\\n49984    ', 'You know what all i do is Yogurt For Breakfast...\\n49985    See this Instagram video by danactive canada h...\\n49986    ', 'Latest Contest Danactive Win 1 of 3 prepaid gi...\\n49987    ', 'Regardez cette vid o', 'Instagram de danactive ca...\\n49988    ', 'D couvrez cette vid o', 'Instagram de danactive c...\\n49989    ', 'Regardez cette vid o', 'Instagram de danactive ca...\\n49990    ', 'Financial Junior Analyst Danone Inc Bouchervil...\\n49991    Coupon de 1 sur un emballage de Danactive tout...\\n49992    ', 'I used to be really active and do extreme race...\\n49993    ', 'i m getting sick and all', 'i', 'wanna do is lay on ...\\n49994    ', 'It s late', 'but i can t seem to get yo sleep', 'So ...\\n49995    Post workout meal 4 yogurts 4 grams of protein...\\n49996    ', 'This technique is preposterous DanActive provi...\\n49997    ', 'just had an allergic reaction to a tea tree oi...\\n49998    ', 'Is DanActive', 'i e Actimel no longer a thing', 'Dan...\\n49999    First off Dannon the maker of Activia DanActiv...\\n', 'Name: text, Length: 50000, dtype: object']\n"
     ]
    }
   ],
   "source": [
    "# create list of sentence tokens\n",
    "sents_list = []\n",
    "for sent in sentence1.sents:\n",
    "    sents_list.append(sent.text)\n",
    "print(sents_list)"
   ]
  },
  {
   "cell_type": "code",
   "execution_count": 16,
   "metadata": {},
   "outputs": [],
   "source": [
    "#Stop words\n",
    "#importing stop words from English language.\n",
    "spacy_stopwords = spacy.lang.en.stop_words.STOP_WORDS"
   ]
  },
  {
   "cell_type": "code",
   "execution_count": 17,
   "metadata": {},
   "outputs": [
    {
     "name": "stdout",
     "output_type": "stream",
     "text": [
      "Number of stop words: 326\n"
     ]
    }
   ],
   "source": [
    "#Printing the total number of stop words:\n",
    "print('Number of stop words: %d' % len(spacy_stopwords))"
   ]
  },
  {
   "cell_type": "code",
   "execution_count": 18,
   "metadata": {},
   "outputs": [
    {
     "name": "stdout",
     "output_type": "stream",
     "text": [
      "First ten stop words: ['this', 'me', 'through', 'go', 'he', 'must', 'them', 'along', 'keep', 'less', 'namely', 'ours', 'thereafter', 'over', 'whole', 'first', 'because', 'off', 'i', 'twenty']\n"
     ]
    }
   ],
   "source": [
    "#Printing first ten stop words:\n",
    "print('First ten stop words: %s' % list(spacy_stopwords)[:20])"
   ]
  },
  {
   "cell_type": "code",
   "execution_count": 23,
   "metadata": {},
   "outputs": [
    {
     "data": {
      "text/plain": [
       "'for word in sents_list:\\n    if word.is_stop==False:\\n        filtered_sent.append(word)\\nprint(\"Filtered Sentence:\",filtered_sent)'"
      ]
     },
     "execution_count": 23,
     "metadata": {},
     "output_type": "execute_result"
    }
   ],
   "source": [
    "\"\"\"for word in sents_list:\n",
    "    if word.is_stop==False:\n",
    "        filtered_sent.append(word)\n",
    "print(\"Filtered Sentence:\",filtered_sent)\"\"\""
   ]
  },
  {
   "cell_type": "code",
   "execution_count": 26,
   "metadata": {},
   "outputs": [],
   "source": [
    "# Create our list of punctuation marks\n",
    "import string\n",
    "punctuations = string.punctuation"
   ]
  },
  {
   "cell_type": "code",
   "execution_count": 27,
   "metadata": {},
   "outputs": [],
   "source": [
    "# Creating our tokenizer function\n",
    "def spacy_tokenizer(sentence):\n",
    "    # Creating our token object, which is used to create documents with linguistic annotations.\n",
    "    mytokens = parser(sentence)\n",
    "\n",
    "    # Lemmatizing each token and converting each token into lowercase\n",
    "    mytokens = [ word.lemma_.lower().strip() if word.lemma_ != \"-PRON-\" else word.lower_ for word in mytokens ]\n",
    "\n",
    "    # Removing stop words\n",
    "    mytokens = [ word for word in mytokens if word not in stop_words and word not in punctuations ]\n",
    "\n",
    "    # return preprocessed list of tokens\n",
    "    return mytokens"
   ]
  },
  {
   "cell_type": "code",
   "execution_count": 28,
   "metadata": {},
   "outputs": [],
   "source": [
    "# Basic function to clean the text\n",
    "def clean_text(text):\n",
    "    # Removing spaces and converting text into lowercase\n",
    "    return text.strip().lower()"
   ]
  },
  {
   "cell_type": "code",
   "execution_count": 31,
   "metadata": {},
   "outputs": [
    {
     "ename": "NameError",
     "evalue": "name 'CountVectorizer' is not defined",
     "output_type": "error",
     "traceback": [
      "\u001b[1;31m---------------------------------------------------------------------------\u001b[0m",
      "\u001b[1;31mNameError\u001b[0m                                 Traceback (most recent call last)",
      "\u001b[1;32m<ipython-input-31-3708c1524129>\u001b[0m in \u001b[0;36m<module>\u001b[1;34m()\u001b[0m\n\u001b[1;32m----> 1\u001b[1;33m \u001b[0mbow_vector\u001b[0m \u001b[1;33m=\u001b[0m \u001b[0mCountVectorizer\u001b[0m\u001b[1;33m(\u001b[0m\u001b[0mtokenizer\u001b[0m \u001b[1;33m=\u001b[0m \u001b[0mspacy_tokenizer\u001b[0m\u001b[1;33m,\u001b[0m \u001b[0mngram_range\u001b[0m\u001b[1;33m=\u001b[0m\u001b[1;33m(\u001b[0m\u001b[1;36m1\u001b[0m\u001b[1;33m,\u001b[0m\u001b[1;36m1\u001b[0m\u001b[1;33m)\u001b[0m\u001b[1;33m)\u001b[0m\u001b[1;33m\u001b[0m\u001b[0m\n\u001b[0m",
      "\u001b[1;31mNameError\u001b[0m: name 'CountVectorizer' is not defined"
     ]
    }
   ],
   "source": [
    "bow_vector = CountVectorizer(tokenizer = spacy_tokenizer, ngram_range=(1,1))"
   ]
  },
  {
   "cell_type": "code",
   "execution_count": null,
   "metadata": {},
   "outputs": [],
   "source": []
  }
 ],
 "metadata": {
  "kernelspec": {
   "display_name": "Python 3",
   "language": "python",
   "name": "python3"
  },
  "language_info": {
   "codemirror_mode": {
    "name": "ipython",
    "version": 3
   },
   "file_extension": ".py",
   "mimetype": "text/x-python",
   "name": "python",
   "nbconvert_exporter": "python",
   "pygments_lexer": "ipython3",
   "version": "3.6.5"
  }
 },
 "nbformat": 4,
 "nbformat_minor": 2
}
